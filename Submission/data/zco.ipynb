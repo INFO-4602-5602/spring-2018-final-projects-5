{
 "cells": [
  {
   "cell_type": "code",
   "execution_count": 3,
   "metadata": {},
   "outputs": [
    {
     "name": "stdout",
     "output_type": "stream",
     "text": [
      "              CO AQI\n",
      "Date Local          \n",
      "2000        9.540111\n",
      "2001        8.792794\n",
      "2002        8.486661\n",
      "2003        8.246795\n",
      "2004        7.412931\n",
      "2005        6.893456\n",
      "2006        6.966187\n",
      "2007        6.030215\n",
      "2008        5.320949\n",
      "2009        5.162154\n",
      "2010        5.138582\n",
      "2011        4.824730\n",
      "2012        4.603671\n",
      "2013        4.284674\n",
      "2014        4.242993\n",
      "2015        4.323289\n",
      "2016        4.446386\n"
     ]
    }
   ],
   "source": [
    "import pandas as pd\n",
    "import numpy as np\n",
    "import sys\n",
    "import matplotlib.pylab as plt\n",
    "%matplotlib inline\n",
    "import pylab as pl\n",
    "from pandas import *\n",
    "df = pd.read_csv(\"pollution_us_2000_2016.csv\")\n",
    "df.dropna(subset=['Date Local'], inplace = True)\n",
    "df['Date Local'] = df['Date Local'].str.split('-').str[0].astype(int)\n",
    "df.dropna(subset=['CO AQI'], inplace = True)\n",
    "df = df[[\"Date Local\", \"CO AQI\"]].groupby(\"Date Local\").mean()\n",
    "print(df)\n",
    "df.to_csv(\"co.csv\")"
   ]
  },
  {
   "cell_type": "code",
   "execution_count": null,
   "metadata": {
    "collapsed": true
   },
   "outputs": [],
   "source": []
  }
 ],
 "metadata": {
  "kernelspec": {
   "display_name": "Python 3",
   "language": "python",
   "name": "python3"
  },
  "language_info": {
   "codemirror_mode": {
    "name": "ipython",
    "version": 3
   },
   "file_extension": ".py",
   "mimetype": "text/x-python",
   "name": "python",
   "nbconvert_exporter": "python",
   "pygments_lexer": "ipython3",
   "version": "3.6.1"
  }
 },
 "nbformat": 4,
 "nbformat_minor": 2
}
