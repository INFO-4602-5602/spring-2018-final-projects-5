{
 "cells": [
  {
   "cell_type": "code",
   "execution_count": 8,
   "metadata": {},
   "outputs": [
    {
     "name": "stdout",
     "output_type": "stream",
     "text": [
      "              NO2 AQI\n",
      "Date Local           \n",
      "2000        30.969971\n",
      "2001        31.312336\n",
      "2002        29.362276\n",
      "2003        28.332485\n",
      "2004        26.946582\n",
      "2005        27.417807\n",
      "2006        26.994615\n",
      "2007        24.966103\n",
      "2008        23.492376\n",
      "2009        21.710276\n",
      "2010        21.913777\n",
      "2011        21.221528\n",
      "2012        20.396674\n",
      "2013        19.868758\n",
      "2014        19.448183\n",
      "2015        18.409025\n",
      "2016        20.070558\n"
     ]
    }
   ],
   "source": [
    "import pandas as pd\n",
    "import numpy as np\n",
    "import sys\n",
    "import matplotlib.pylab as plt\n",
    "%matplotlib inline\n",
    "import pylab as pl\n",
    "from pandas import *\n",
    "df = pd.read_csv(\"pollution_us_2000_2016.csv\")\n",
    "df.dropna(subset=['NO2 AQI'], inplace = True)\n",
    "df.dropna(subset=['Date Local'], inplace = True)\n",
    "df['Date Local'] = df['Date Local'].str.split('-').str[0].astype(int)\n",
    "df = df[[\"Date Local\", \"NO2 AQI\"]].groupby(\"Date Local\").mean()\n",
    "print(df)\n",
    "df.dtypes\n",
    "df.to_csv(\"no2.csv\")"
   ]
  },
  {
   "cell_type": "code",
   "execution_count": null,
   "metadata": {
    "collapsed": true
   },
   "outputs": [],
   "source": []
  }
 ],
 "metadata": {
  "kernelspec": {
   "display_name": "Python 3",
   "language": "python",
   "name": "python3"
  },
  "language_info": {
   "codemirror_mode": {
    "name": "ipython",
    "version": 3
   },
   "file_extension": ".py",
   "mimetype": "text/x-python",
   "name": "python",
   "nbconvert_exporter": "python",
   "pygments_lexer": "ipython3",
   "version": "3.6.1"
  }
 },
 "nbformat": 4,
 "nbformat_minor": 2
}
