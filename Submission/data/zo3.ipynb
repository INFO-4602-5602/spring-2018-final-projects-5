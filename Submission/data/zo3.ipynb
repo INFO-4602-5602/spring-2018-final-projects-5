{
 "cells": [
  {
   "cell_type": "code",
   "execution_count": 14,
   "metadata": {},
   "outputs": [
    {
     "name": "stdout",
     "output_type": "stream",
     "text": [
      "               O3 AQI\n",
      "Date Local           \n",
      "2000        36.018528\n",
      "2001        37.639492\n",
      "2002        39.560711\n",
      "2003        36.641705\n",
      "2004        34.727521\n",
      "2005        37.011672\n",
      "2006        36.200766\n",
      "2007        36.416717\n",
      "2008        35.421844\n",
      "2009        32.960394\n",
      "2010        34.865256\n",
      "2011        34.815007\n",
      "2012        35.631109\n",
      "2013        35.907755\n",
      "2014        36.884436\n",
      "2015        37.241052\n",
      "2016        33.741180\n"
     ]
    }
   ],
   "source": [
    "import pandas as pd\n",
    "import numpy as np\n",
    "import sys\n",
    "import matplotlib.pylab as plt\n",
    "%matplotlib inline\n",
    "import pylab as pl\n",
    "from pandas import *\n",
    "df = pd.read_csv(\"pollution_us_2000_2016.csv\")\n",
    "df.dropna(subset=['Date Local'], inplace = True)\n",
    "df['Date Local'] = df['Date Local'].str.split('-').str[0].astype(int)\n",
    "df.dropna(subset=['O3 AQI'], inplace = True)\n",
    "df = df[[\"Date Local\", \"O3 AQI\"]].groupby(\"Date Local\").mean()\n",
    "print(df)\n",
    "df.to_csv(\"o3.csv\")"
   ]
  },
  {
   "cell_type": "code",
   "execution_count": null,
   "metadata": {
    "collapsed": true
   },
   "outputs": [],
   "source": []
  }
 ],
 "metadata": {
  "kernelspec": {
   "display_name": "Python 3",
   "language": "python",
   "name": "python3"
  },
  "language_info": {
   "codemirror_mode": {
    "name": "ipython",
    "version": 3
   },
   "file_extension": ".py",
   "mimetype": "text/x-python",
   "name": "python",
   "nbconvert_exporter": "python",
   "pygments_lexer": "ipython3",
   "version": "3.6.1"
  }
 },
 "nbformat": 4,
 "nbformat_minor": 2
}
