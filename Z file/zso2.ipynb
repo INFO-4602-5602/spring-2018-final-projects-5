{
 "cells": [
  {
   "cell_type": "code",
   "execution_count": 3,
   "metadata": {},
   "outputs": [
    {
     "name": "stdout",
     "output_type": "stream",
     "text": [
      "              SO2 AQI\n",
      "Date Local           \n",
      "2000        14.257266\n",
      "2001        12.835229\n",
      "2002        11.030911\n",
      "2003        11.327609\n",
      "2004        11.247233\n",
      "2005        11.186187\n",
      "2006        10.006128\n",
      "2007         9.055128\n",
      "2008         7.309846\n",
      "2009         5.443967\n",
      "2010         4.306611\n",
      "2011         4.213639\n",
      "2012         3.338727\n",
      "2013         2.964095\n",
      "2014         3.036478\n",
      "2015         2.536991\n",
      "2016         2.186693\n"
     ]
    }
   ],
   "source": [
    "import pandas as pd\n",
    "import numpy as np\n",
    "import sys\n",
    "import matplotlib.pylab as plt\n",
    "%matplotlib inline\n",
    "import pylab as pl\n",
    "from pandas import *\n",
    "df = pd.read_csv(\"pollution_us_2000_2016.csv\")\n",
    "df.dropna(subset=['Date Local'], inplace = True)\n",
    "df['Date Local'] = df['Date Local'].str.split('-').str[0].astype(int)\n",
    "df.dropna(subset=['SO2 AQI'], inplace = True)\n",
    "df = df[[\"Date Local\", \"SO2 AQI\"]].groupby(\"Date Local\").mean()\n",
    "print(df)\n",
    "df.to_csv(\"so2.csv\")"
   ]
  },
  {
   "cell_type": "code",
   "execution_count": null,
   "metadata": {
    "collapsed": true
   },
   "outputs": [],
   "source": []
  }
 ],
 "metadata": {
  "kernelspec": {
   "display_name": "Python 3",
   "language": "python",
   "name": "python3"
  },
  "language_info": {
   "codemirror_mode": {
    "name": "ipython",
    "version": 3
   },
   "file_extension": ".py",
   "mimetype": "text/x-python",
   "name": "python",
   "nbconvert_exporter": "python",
   "pygments_lexer": "ipython3",
   "version": "3.6.1"
  }
 },
 "nbformat": 4,
 "nbformat_minor": 2
}
